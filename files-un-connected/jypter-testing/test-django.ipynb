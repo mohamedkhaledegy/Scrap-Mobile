{
 "cells": [
  {
   "cell_type": "code",
   "execution_count": null,
   "metadata": {},
   "outputs": [],
   "source": [
    "from django.contrib.gis.geos import GEOSGeometry\n",
    "pnt = GEOSGeometry('SRID=4326;POINT(40.396764 -3.68042)')\n",
    "pnt2 = GEOSGeometry('SRID=4326;POINT( 48.835797 2.329102  )')\n",
    "pnt.distance(pnt2) * 100"
   ]
  }
 ],
 "metadata": {
  "language_info": {
   "name": "python"
  },
  "orig_nbformat": 4
 },
 "nbformat": 4,
 "nbformat_minor": 2
}
