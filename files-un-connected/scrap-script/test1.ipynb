{
 "cells": [
  {
   "cell_type": "code",
   "execution_count": 17,
   "metadata": {},
   "outputs": [
    {
     "name": "stdout",
     "output_type": "stream",
     "text": [
      "15\n",
      "Galaxy Z Fold 3\n",
      "15\n",
      "Galaxy Z Fold 3\n",
      "15\n",
      "Galaxy Z Fold 3\n",
      "15\n",
      "Galaxy Z Fold 3\n",
      "15\n",
      "Galaxy Z Fold 3\n",
      "15\n",
      "Galaxy Z Fold 3\n",
      "15\n",
      "Galaxy Z Fold 3\n",
      "15\n",
      "Galaxy Z Fold 3\n",
      "15\n",
      "Galaxy Z Fold 3\n",
      "15\n",
      "Galaxy Z Fold 3\n"
     ]
    }
   ],
   "source": [
    "from bs4 import BeautifulSoup as bs\n",
    "import requests\n",
    "import pandas as pd\n",
    "\n",
    "\n",
    "\n",
    "url = 'https://www.samsung.com/eg/support/partsprices/'\n",
    "headers = {\n",
    "    \"user-agent\": \"Mozilla/5.0 (Windows NT 6.1) AppleWebKit/537.36 (KHTML, like Gecko) Chrome/86.0.4240.198 Safari/537.36\"\n",
    "          }\n",
    "s = requests.Session()\n",
    "s.headers.update(headers)\n",
    "r = s.get(url)\n",
    "soup = bs(r.content , \"html.parser\")\n",
    "num = 0\n",
    "for name in range(10):\n",
    "    num+=1\n",
    "    name = soup.find('table' , {'class' : 'ex-table-cell-text ex-table-cell-text--align-td-left ex-table-cell-text--align-th-left ex-table-cell-text--layout-fixed margin-top--narrow margin-bottom--normal theme-basic'})\n",
    "    name = name.find('tbody').find('tr').text\n",
    "    print(len(name))\n",
    "    print(name)"
   ]
  }
 ],
 "metadata": {
  "interpreter": {
   "hash": "c7c7b96678759ee3c935a6b8e1e7d7605d0de05fae399ce8a1b57484ccd306d2"
  },
  "kernelspec": {
   "display_name": "Python 3.7.6 64-bit ('venv': venv)",
   "language": "python",
   "name": "python3"
  },
  "language_info": {
   "codemirror_mode": {
    "name": "ipython",
    "version": 3
   },
   "file_extension": ".py",
   "mimetype": "text/x-python",
   "name": "python",
   "nbconvert_exporter": "python",
   "pygments_lexer": "ipython3",
   "version": "3.7.6"
  },
  "orig_nbformat": 4
 },
 "nbformat": 4,
 "nbformat_minor": 2
}
